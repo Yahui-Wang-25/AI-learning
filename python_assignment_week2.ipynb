{
  "cells": [
    {
      "cell_type": "markdown",
      "id": "ab1ed041",
      "metadata": {
        "id": "ab1ed041"
      },
      "source": [
        "# Python Assignment"
      ]
    },
    {
      "cell_type": "markdown",
      "source": [
        "## Python Basics\n",
        "\n",
        "### List\n",
        "\n",
        "```python\n",
        "x = [1,'a', 'xy']\n",
        "y = [2, x, 3.0]\n",
        "```\n",
        "\n",
        "### Dict\n",
        "```python\n",
        "d = {'x':1, 'y':2, 'z':3}\n",
        "```\n",
        "\n",
        "## Class and Object\n",
        "A class is like a blueprint or template, and an object is an actual instance created based on that blueprint.\n",
        "```python\n",
        "# This is a class definition\n",
        "class Car:\n",
        "    def __init__(self, brand):\n",
        "        self.brand = brand\n",
        "\n",
        "    def drive(self):\n",
        "        print(f\"{self.brand} is driving.\")\n",
        "\n",
        "# This is an object created from the class\n",
        "my_car = Car(\"Toyota\")\n",
        "\n",
        "# Call a method from the object\n",
        "my_car.drive()  # Output: Toyota is driving.\n",
        "\n",
        "```"
      ],
      "metadata": {
        "id": "5z74Bmyh0ubQ"
      },
      "id": "5z74Bmyh0ubQ"
    },
    {
      "cell_type": "markdown",
      "metadata": {
        "id": "053b9b75"
      },
      "source": [
        "## 1. List Remove Duplicates\n",
        "\n",
        "### Description\n",
        "Write a Python function that takes a list and returns a new list with duplicate elements removed.\n",
        "\n",
        "### Input Example\n",
        "```\n",
        "input_list = [1, 1, 2, 3, 2, 4, 5, 5, 6]\n",
        "```\n",
        "\n",
        "### Output Example\n",
        "```\n",
        "[1, 2, 3, 4, 5, 6]\n",
        "```"
      ],
      "id": "053b9b75"
    },
    {
      "cell_type": "code",
      "execution_count": 4,
      "id": "66a46a06",
      "metadata": {
        "execution": {
          "iopub.execute_input": "2025-07-15T20:33:51.243347Z",
          "iopub.status.busy": "2025-07-15T20:33:51.242913Z",
          "iopub.status.idle": "2025-07-15T20:33:51.246307Z",
          "shell.execute_reply": "2025-07-15T20:33:51.245809Z"
        },
        "colab": {
          "base_uri": "https://localhost:8080/"
        },
        "id": "66a46a06",
        "outputId": "70a01287-5c3f-4b16-8533-ad71a78b3937"
      },
      "outputs": [
        {
          "output_type": "stream",
          "name": "stdout",
          "text": [
            "[1, 2, 3, 4, 5, 6]\n"
          ]
        }
      ],
      "source": [
        "def remove_duplicates(input_list):\n",
        "    temp_list = []\n",
        "    for x in input_list:\n",
        "        if x not in temp_list:\n",
        "            temp_list.append(x) #[1,2,3,]\n",
        "    return temp_list\n",
        "\n",
        "input_list = [1, 1, 2, 3, 2, 4, 5, 5, 6]\n",
        "print(remove_duplicates(input_list))"
      ]
    },
    {
      "cell_type": "code",
      "source": [],
      "metadata": {
        "colab": {
          "base_uri": "https://localhost:8080/"
        },
        "id": "zL205RlJ5IjB",
        "outputId": "cedfd714-690e-496e-9768-e8b0dbab908c"
      },
      "id": "zL205RlJ5IjB",
      "execution_count": 3,
      "outputs": [
        {
          "output_type": "stream",
          "name": "stdout",
          "text": [
            "True\n"
          ]
        }
      ]
    },
    {
      "cell_type": "markdown",
      "id": "692bcda1",
      "metadata": {
        "id": "692bcda1"
      },
      "source": [
        "## 2. Fibonacci Sequence\n",
        "\n",
        "### Description\n",
        "Write a Python function that generates the Fibonacci sequence up to a specified number of terms. The Fibonacci sequence is a series of numbers in which each number is the sum of the two preceding ones. It starts like this: 0, 1, 1, 2, 3, 5, 8, 13, 21, 34, ...\n",
        "\n",
        "### Input Example\n",
        "```\n",
        "terms = 10\n",
        "```\n",
        "\n",
        "### Output Example\n",
        "```\n",
        "[0, 1, 1, 2, 3, 5, 8, 13, 21, 34]\n",
        "```"
      ]
    },
    {
      "cell_type": "code",
      "execution_count": 5,
      "id": "d48bb5ee",
      "metadata": {
        "execution": {
          "iopub.execute_input": "2025-07-15T20:33:51.237389Z",
          "iopub.status.busy": "2025-07-15T20:33:51.236940Z",
          "iopub.status.idle": "2025-07-15T20:33:51.241169Z",
          "shell.execute_reply": "2025-07-15T20:33:51.240656Z"
        },
        "colab": {
          "base_uri": "https://localhost:8080/"
        },
        "id": "d48bb5ee",
        "outputId": "0546eec7-a108-48cb-83f4-7d939a2254db"
      },
      "outputs": [
        {
          "output_type": "stream",
          "name": "stdout",
          "text": [
            "[0, 1, 1, 2, 3, 5, 8, 13, 21, 34]\n"
          ]
        }
      ],
      "source": [
        "def fibonacci_sequence(terms):\n",
        "    res = [0, 1]\n",
        "    for i in range(3, terms+1): # range(3,5) -> [3, 4, 5)\n",
        "        temp = res[-1] + res[-2]\n",
        "        res.append(temp) # [0,1, 1, 2]\n",
        "    return res\n",
        "\n",
        "\n",
        "terms = 10\n",
        "print(fibonacci_sequence(terms))"
      ]
    },
    {
      "cell_type": "markdown",
      "id": "74900f12",
      "metadata": {
        "id": "74900f12"
      },
      "source": [
        "## 3. List Overlap\n",
        "\n",
        "### Description\n",
        "Write a Python function that takes two lists and returns a new list containing only the common elements, without duplicates.\n",
        "\n",
        "### Input Example\n",
        "```\n",
        "list1 = [1, 1, 2, 3, 5, 8, 13, 21, 34, 55, 89]\n",
        "list2 = [1, 2, 3, 4, 5, 6, 7, 8, 9, 10, 11, 12, 13]\n",
        "```\n",
        "\n",
        "### Output Example\n",
        "```\n",
        "[1, 2, 3, 5, 8, 13]\n",
        "```"
      ]
    },
    {
      "cell_type": "code",
      "execution_count": 10,
      "id": "dd2f4e18",
      "metadata": {
        "execution": {
          "iopub.execute_input": "2025-07-15T20:33:51.227773Z",
          "iopub.status.busy": "2025-07-15T20:33:51.227250Z",
          "iopub.status.idle": "2025-07-15T20:33:51.235152Z",
          "shell.execute_reply": "2025-07-15T20:33:51.234677Z"
        },
        "colab": {
          "base_uri": "https://localhost:8080/"
        },
        "id": "dd2f4e18",
        "outputId": "a28eddb9-0efe-4989-daa2-e1918b7aabc7"
      },
      "outputs": [
        {
          "output_type": "stream",
          "name": "stdout",
          "text": [
            "\n",
            "x= 1\n",
            "res= []\n",
            "\n",
            "get new one:  [1]\n",
            "\n",
            "x= 1\n",
            "res= [1]\n",
            "\n",
            "already exisiting..\n",
            "\n",
            "x= 2\n",
            "res= [1]\n",
            "\n",
            "get new one:  [1, 2]\n",
            "\n",
            "x= 3\n",
            "res= [1, 2]\n",
            "\n",
            "get new one:  [1, 2, 3]\n",
            "\n",
            "x= 5\n",
            "res= [1, 2, 3]\n",
            "\n",
            "get new one:  [1, 2, 3, 5]\n",
            "\n",
            "x= 8\n",
            "res= [1, 2, 3, 5]\n",
            "\n",
            "get new one:  [1, 2, 3, 5, 8]\n",
            "\n",
            "x= 13\n",
            "res= [1, 2, 3, 5, 8]\n",
            "\n",
            "get new one:  [1, 2, 3, 5, 8, 13]\n",
            "\n",
            "x= 21\n",
            "res= [1, 2, 3, 5, 8, 13]\n",
            "\n",
            "\n",
            "x= 34\n",
            "res= [1, 2, 3, 5, 8, 13]\n",
            "\n",
            "\n",
            "x= 55\n",
            "res= [1, 2, 3, 5, 8, 13]\n",
            "\n",
            "\n",
            "x= 89\n",
            "res= [1, 2, 3, 5, 8, 13]\n",
            "\n",
            "[1, 2, 3, 5, 8, 13]\n"
          ]
        }
      ],
      "source": [
        "def list_overlap(list1, list2):\n",
        "    res = []\n",
        "\n",
        "    for x in list1:\n",
        "        print('')\n",
        "        print('x=', x)\n",
        "        print('res=', res)\n",
        "\n",
        "        print('')\n",
        "        if x in res:\n",
        "            print('already exisiting..')\n",
        "            continue\n",
        "        else:\n",
        "            if x in list2:\n",
        "                res.append(x)\n",
        "                print('get new one: ', res)\n",
        "\n",
        "    return res\n",
        "\n",
        "\n",
        "list1 = [1, 1, 2, 3, 5, 8, 13, 21, 34, 55, 89]\n",
        "list2 = [1, 2, 3, 4, 5, 6, 7, 8, 9, 10, 11, 12, 13]\n",
        "print(list_overlap(list1, list2))"
      ]
    },
    {
      "cell_type": "markdown",
      "id": "c59cabd4",
      "metadata": {
        "id": "c59cabd4"
      },
      "source": [
        "## 4. Reverse String\n",
        "\n",
        "### Description\n",
        "Write a Python function that reverses a given string.\n",
        "\n",
        "### Input Example\n",
        "```\n",
        "input_string = \"hello\"\n",
        "```\n",
        "\n",
        "### Output Example\n",
        "```\n",
        "\"olleh\"\n",
        "```"
      ]
    },
    {
      "cell_type": "code",
      "execution_count": 18,
      "id": "9b063db0",
      "metadata": {
        "execution": {
          "iopub.execute_input": "2025-07-15T20:33:51.248320Z",
          "iopub.status.busy": "2025-07-15T20:33:51.247897Z",
          "iopub.status.idle": "2025-07-15T20:33:51.251047Z",
          "shell.execute_reply": "2025-07-15T20:33:51.250554Z"
        },
        "colab": {
          "base_uri": "https://localhost:8080/"
        },
        "id": "9b063db0",
        "outputId": "f87cfcd7-46c8-4987-d47d-b98b8a950c9d"
      },
      "outputs": [
        {
          "output_type": "stream",
          "name": "stdout",
          "text": [
            "o\n",
            "l\n",
            "l\n",
            "e\n",
            "h\n",
            "olleh\n",
            "olleh\n"
          ]
        }
      ],
      "source": [
        "def reverse_string(input_string):\n",
        "    res = []\n",
        "    for i in range(len(input_string)): # 0, 1, 2, 3, 4\n",
        "        print(input_string[-i-1])\n",
        "        res.append(input_string[-i-1])\n",
        "\n",
        "    return res\n",
        "\n",
        "input_string = \"hello\" # ['h', 'e', 'l', 'l', 'o'] -> ['o', 'l', 'l', 'e', 'h']\n",
        "\n",
        "res = ['o', 'l', 'l', 'e', 'h']\n",
        "\n",
        "# print(''.join(res))\n",
        "\n",
        "# print(len(input_string))\n",
        "\n",
        "res_list = reverse_string(input_string)\n",
        "print(''.join(res_list))\n",
        "\n",
        "print(input_string[::-1])"
      ]
    },
    {
      "cell_type": "markdown",
      "id": "0f71bb09",
      "metadata": {
        "id": "0f71bb09"
      },
      "source": [
        "## 5. Sort List by Square of Each Elements\n",
        "\n",
        "### Description\n",
        "Write a Python function that takes a list of integers, squares each element, and then sorts the new list in non-decreasing order.\n",
        "\n",
        "### Input Example\n",
        "```\n",
        "input_list = [-4, -1, 0, 3, 10]\n",
        "```\n",
        "\n",
        "### Output Example\n",
        "```\n",
        "[0, 1, 9, 16, 100]\n",
        "```\n",
        "\n",
        "### sort() and sorted()\n",
        "```list.sort(key=lambda x: some_function(x))```\n",
        "or\n",
        "```\n",
        "sorted_list = sorted(list, key=lambda x: some_function(x))\n",
        "```\n",
        "\n",
        "words = [\"apple\", \"banana\", \"fig\", \"cherry\"]\n",
        "words.sort(key=lambda x: len(x))\n",
        "print(words)\n",
        "# Output: ['fig', 'apple', 'banana', 'cherry']\n"
      ]
    },
    {
      "cell_type": "code",
      "execution_count": null,
      "id": "d9994e70",
      "metadata": {
        "execution": {
          "iopub.execute_input": "2025-07-15T20:33:51.253064Z",
          "iopub.status.busy": "2025-07-15T20:33:51.252641Z",
          "iopub.status.idle": "2025-07-15T20:33:51.256247Z",
          "shell.execute_reply": "2025-07-15T20:33:51.255810Z"
        },
        "id": "d9994e70",
        "outputId": "6ddfbba7-fd90-43c8-fa7a-e56bf44b5d82"
      },
      "outputs": [
        {
          "name": "stdout",
          "output_type": "stream",
          "text": [
            "[0, 1, 9, 16, 100]\n"
          ]
        }
      ],
      "source": [
        "def sort_squares(input_list):\n",
        "    pass\n",
        "\n",
        "input_list = [-4, -1, 0, 3, 10]\n",
        "print(sort_squares(input_list))"
      ]
    },
    {
      "cell_type": "code",
      "source": [
        "words = [\"apple\", \"banana\", \"fig\", \"cherry\"]\n",
        "words.sort(key=lambda x: len(x))\n",
        "print(words)\n",
        "# Output: ['fig', 'apple', 'banana', 'cherry']\n"
      ],
      "metadata": {
        "colab": {
          "base_uri": "https://localhost:8080/"
        },
        "id": "dLLz-BTp0W2K",
        "outputId": "cd7e1326-a586-492e-f831-93e510914cff"
      },
      "id": "dLLz-BTp0W2K",
      "execution_count": 2,
      "outputs": [
        {
          "output_type": "stream",
          "name": "stdout",
          "text": [
            "['fig', 'apple', 'banana', 'cherry']\n"
          ]
        }
      ]
    },
    {
      "cell_type": "code",
      "source": [
        "nums = [-4, -1, 0, 3, 10]\n",
        "sorted_nums = sorted(nums, key=lambda x: x**2)\n",
        "print(sorted_nums)\n",
        "print(nums)\n",
        "# Output: [0, -1, 3, -4, 10]\n"
      ],
      "metadata": {
        "colab": {
          "base_uri": "https://localhost:8080/"
        },
        "id": "07M0BmlY0cpM",
        "outputId": "e24438dd-3f63-4225-e33b-f21631576d9f"
      },
      "id": "07M0BmlY0cpM",
      "execution_count": 20,
      "outputs": [
        {
          "output_type": "stream",
          "name": "stdout",
          "text": [
            "[0, -1, 3, -4, 10]\n",
            "[-4, -1, 0, 3, 10]\n"
          ]
        }
      ]
    },
    {
      "cell_type": "markdown",
      "id": "bd106624",
      "metadata": {
        "id": "bd106624"
      },
      "source": [
        "## 6. Two Sum\n",
        "\n",
        "### Description\n",
        "Given an array of integers `nums` and an integer `target`, return indices of the two numbers such that they add up to `target`.\n",
        "\n",
        "You may assume that each input would have exactly one solution, and you may not use the same element twice.\n",
        "\n",
        "### Input Example\n",
        "```\n",
        "nums = [2, 7, 11, 15]\n",
        "target = 9\n",
        "```\n",
        "\n",
        "### Output Example\n",
        "```\n",
        "[0, 1]\n",
        "```"
      ]
    },
    {
      "cell_type": "code",
      "source": [
        "#[2, 4, 6, 3, 5] , 9\n",
        "2, -> 7\n",
        "4 (1), -> 5 (4)\n"
      ],
      "metadata": {
        "id": "HprxkxtwADlv"
      },
      "id": "HprxkxtwADlv",
      "execution_count": null,
      "outputs": []
    },
    {
      "cell_type": "code",
      "execution_count": 23,
      "id": "8394b8a1",
      "metadata": {
        "execution": {
          "iopub.execute_input": "2025-07-15T20:33:51.258234Z",
          "iopub.status.busy": "2025-07-15T20:33:51.257810Z",
          "iopub.status.idle": "2025-07-15T20:33:51.261474Z",
          "shell.execute_reply": "2025-07-15T20:33:51.261048Z"
        },
        "colab": {
          "base_uri": "https://localhost:8080/"
        },
        "id": "8394b8a1",
        "outputId": "a1510d06-8ec9-4564-e832-d87d93e7fe61"
      },
      "outputs": [
        {
          "output_type": "stream",
          "name": "stdout",
          "text": [
            ">> 0 1 2 4 6\n",
            ">> 0 2 2 6 8\n",
            ">> 0 3 2 3 5\n",
            ">> 0 4 2 5 7\n",
            ">> 1 2 4 6 10\n",
            ">> 1 3 4 3 7\n",
            ">> 1 4 4 5 9\n",
            "(1, 4)\n"
          ]
        }
      ],
      "source": [
        "def two_sum(nums, target):\n",
        "\n",
        "    for i in range(len(nums)): # [0, 1, 2, 3, 4]\n",
        "        # nums[i] # i+1, ... ,len(nums)-1\n",
        "        for j in range(i+1, len(nums)):\n",
        "            print('>>', i, j, nums[i], nums[j], nums[i]+nums[j])\n",
        "            if nums[i] + nums[j] == target:\n",
        "                return (i, j)\n",
        "\n",
        "nums = [2, 4, 6, 3, 5 ] # 4+3+2+1 n: (n-1) + (n-2) + (n-3) + ... 1 -> n*(n-1)/2 -> O(n*n)  -> O(n)\n",
        "target = 99\n",
        "print(two_sum(nums, target))"
      ]
    },
    {
      "cell_type": "code",
      "source": [
        "def two_sum(nums, target):\n",
        "    # dict\n",
        "    lookup = {}\n",
        "    for i, n in enumerate(nums):\n",
        "        lookup[n] = i # 2:0, 4:1, 6:2, 3:3, 5:4\n",
        "    for k, v in lookup.items():\n",
        "        print (k, v)\n",
        "    print('')\n",
        "    for i, n in enumerate(nums):\n",
        "        print('[', i, '] ',  n, ' target=', target - n )\n",
        "        if target - n in lookup:\n",
        "            return (i, lookup[target-n])\n",
        "\n",
        "\n",
        "nums = [2, 4, 6, 3, 5 ] # 4+3+2+1 n: (n-1) + (n-2) + (n-3) + ... 1 -> n*(n-1)/2 -> O(n*n)  -> O(n) 2*n\n",
        "target = 9\n",
        "print(two_sum(nums, target))"
      ],
      "metadata": {
        "colab": {
          "base_uri": "https://localhost:8080/"
        },
        "id": "X-ScUssKCR5p",
        "outputId": "a71a82cc-2f10-445e-d871-22c671518487"
      },
      "id": "X-ScUssKCR5p",
      "execution_count": 27,
      "outputs": [
        {
          "output_type": "stream",
          "name": "stdout",
          "text": [
            "2 0\n",
            "4 1\n",
            "6 2\n",
            "3 3\n",
            "5 4\n",
            "\n",
            "[ 0 ]  2  target= 7\n",
            "[ 1 ]  4  target= 5\n",
            "(1, 4)\n"
          ]
        }
      ]
    },
    {
      "cell_type": "markdown",
      "id": "a0d51ad4",
      "metadata": {
        "id": "a0d51ad4"
      },
      "source": [
        "## 7. Student Grade Management System\n",
        "\n",
        "### Description\n",
        "Create a Python class `Student` that stores a student\\'s name and a dictionary of their grades for different subjects. Implement methods to:\n",
        "- Add a new subject and grade.\n",
        "- Update an existing subject\\'s grade.\n",
        "- Calculate the average grade for the student.\n",
        "- Display all subjects and their grades.\n",
        "\n",
        "### Input Example\n",
        "```python\n",
        "student1 = Student(\"Alice\")\n",
        "student1.add_grade(\"Math\", 90)\n",
        "student1.add_grade(\"Science\", 85)\n",
        "student1.display_grades()\n",
        "student1.update_grade(\"Math\", 92)\n",
        "student1.display_grades()\n",
        "print(f\"Average grade for {student1.name}: {student1.calculate_average_grade()}\")\n",
        "```\n",
        "\n",
        "### Output Example\n",
        "```\n",
        "Alice\\'s Grades:\n",
        "Math: 90\n",
        "Science: 85\n",
        "Alice\\'s Grades:\n",
        "Math: 92\n",
        "Science: 85\n",
        "Average grade for Alice: 88.5\n",
        "```\n",
        "\n",
        "### Code\n",
        "```python\n",
        "class Student:\n",
        "    def __init__(self, name):\n",
        "        self.name = name\n",
        "        self.grades = {}\n",
        "\n",
        "    def add_grade(self, subject, grade):\n",
        "        self.grades[subject] = grade\n",
        "        print(f\"Added {grade} for {subject} to {self.name}\\'s grades.\")\n",
        "\n",
        "    def update_grade(self, subject, new_grade):\n",
        "        if subject in self.grades:\n",
        "            self.grades[subject] = new_grade\n",
        "            print(f\"Updated {subject} grade to {new_grade} for {self.name}.\")\n",
        "        else:\n",
        "            print(f\"{subject} not found for {self.name}.\")\n",
        "\n",
        "    def calculate_average_grade(self):\n",
        "        if not self.grades:\n",
        "            return 0\n",
        "        return sum(self.grades.values()) / len(self.grades)\n",
        "\n",
        "    def display_grades(self):\n",
        "        print(f\"{self.name}\\'s Grades:\")\n",
        "        if not self.grades:\n",
        "            print(\"No grades recorded.\")\n",
        "        for subject, grade in self.grades.items():\n",
        "            print(f\"{subject}: {grade}\")\n",
        "\n",
        "# Example Usage:\n",
        "student1 = Student(\"Alice\")\n",
        "student1.add_grade(\"Math\", 90)\n",
        "student1.add_grade(\"Science\", 85)\n",
        "student1.display_grades()\n",
        "student1.update_grade(\"Math\", 92)\n",
        "student1.display_grades()\n",
        "print(f\"Average grade for {student1.name}: {student1.calculate_average_grade()}\")\n",
        "\n",
        "student2 = Student(\"Bob\")\n",
        "student2.add_grade(\"History\", 78)\n",
        "student2.display_grades()\n",
        "print(f\"Average grade for {student2.name}: {student2.calculate_average_grade()}\")\n"
      ]
    }
  ],
  "metadata": {
    "language_info": {
      "name": "python"
    },
    "colab": {
      "provenance": [],
      "toc_visible": true
    },
    "kernelspec": {
      "name": "python3",
      "display_name": "Python 3"
    }
  },
  "nbformat": 4,
  "nbformat_minor": 5
}